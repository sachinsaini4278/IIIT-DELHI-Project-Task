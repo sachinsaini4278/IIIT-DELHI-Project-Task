{
 "cells": [
  {
   "cell_type": "code",
   "execution_count": 1,
   "metadata": {},
   "outputs": [],
   "source": [
    "import pickle # For Handling pkl files"
   ]
  },
  {
   "cell_type": "code",
   "execution_count": 2,
   "metadata": {},
   "outputs": [],
   "source": [
    "#load train image file\n",
    "with open('train_image.pkl', 'rb') as f:\n",
    "    x_train = pickle.load(f)"
   ]
  },
  {
   "cell_type": "code",
   "execution_count": 3,
   "metadata": {},
   "outputs": [],
   "source": [
    "#load train label file\n",
    "with open('train_label.pkl', 'rb') as f:\n",
    "    y_train = pickle.load(f)"
   ]
  },
  {
   "cell_type": "code",
   "execution_count": 4,
   "metadata": {},
   "outputs": [],
   "source": [
    "#load test image file\n",
    "with open('test_image.pkl', 'rb') as f:\n",
    "    x_test = pickle.load(f)"
   ]
  },
  {
   "cell_type": "markdown",
   "metadata": {},
   "source": [
    "# Using KNN"
   ]
  },
  {
   "cell_type": "code",
   "execution_count": null,
   "metadata": {},
   "outputs": [],
   "source": [
    "import pandas as pd\n",
    "import pickle\n",
    "import joblib\n",
    "from sklearn.neighbors import KNeighborsClassifier\n",
    "import matplotlib.pyplot as plt\n",
    "\n",
    "KNN_model = KNeighborsClassifier(n_neighbors=5) #selecting 5 neighbours\n",
    "\n",
    "KNN_model.fit(x_train,y_train)\n",
    "\n",
    "# make predictions on the testing set\n",
    "y1_test = KNN_model.predict(x_test)\n",
    "\n",
    "# compare actual response values (y_test) with predicted response values (y_pred)\n",
    "#print(KNN_model.score(x_test,y1_test))\n",
    "#Dumping it into model.pkl file\n",
    "#joblib.dump(KNN_model,\"model.pkl\")\n",
    "\n",
    "\n"
   ]
  },
  {
   "cell_type": "code",
   "execution_count": 6,
   "metadata": {},
   "outputs": [],
   "source": [
    "#Writing the Output which are lavels into .csv file\n",
    "import pandas as pd\n",
    "import numpy as np\n",
    "\n",
    "a = np.array(y1_test)\n",
    "b = np.arange(2000) # as range of test image is 2000\n",
    "\n",
    "df = pd.DataFrame({\"image_index\" : b, \"class\" : a})\n",
    "df.to_csv(\"SACHINSANI.csv\", index=False) "
   ]
  }
 ],
 "metadata": {
  "kernelspec": {
   "display_name": "Python 3",
   "language": "python",
   "name": "python3"
  },
  "language_info": {
   "codemirror_mode": {
    "name": "ipython",
    "version": 3
   },
   "file_extension": ".py",
   "mimetype": "text/x-python",
   "name": "python",
   "nbconvert_exporter": "python",
   "pygments_lexer": "ipython3",
   "version": "3.7.0"
  }
 },
 "nbformat": 4,
 "nbformat_minor": 2
}
